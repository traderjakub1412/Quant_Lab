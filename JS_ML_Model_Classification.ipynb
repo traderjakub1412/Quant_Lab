{
 "cells": [
  {
   "cell_type": "markdown",
   "metadata": {},
   "source": [
    "# Classification ML model\n",
    "\n",
    "This 'project' is not any kind of investment advice or recommendation. \n",
    "Trading all assets is risky and please make every decision on your own. "
   ]
  },
  {
   "cell_type": "code",
   "execution_count": 30,
   "metadata": {},
   "outputs": [],
   "source": [
    "import pandas as pd\n",
    "import numpy as np\n",
    "import matplotlib.pyplot as plt\n",
    "plt.style.use('ggplot')\n",
    "import warnings\n",
    "warnings.filterwarnings('ignore')"
   ]
  },
  {
   "cell_type": "code",
   "execution_count": 31,
   "metadata": {},
   "outputs": [],
   "source": [
    "df = pd.read_pickle('EURUSD_2020-2023_15M.bz2')"
   ]
  },
  {
   "cell_type": "code",
   "execution_count": 32,
   "metadata": {},
   "outputs": [],
   "source": [
    "# split into train and test data\n",
    "train = df.iloc[:int(len(df)*0.8)]\n",
    "test = df.iloc[int(len(df)*0.8):]"
   ]
  },
  {
   "cell_type": "code",
   "execution_count": 33,
   "metadata": {},
   "outputs": [],
   "source": [
    "train['returns'] = np.log(train['close'] / train['close'].shift(1))"
   ]
  },
  {
   "cell_type": "code",
   "execution_count": 34,
   "metadata": {},
   "outputs": [],
   "source": [
    "train.dropna(inplace=True)"
   ]
  },
  {
   "cell_type": "code",
   "execution_count": 35,
   "metadata": {},
   "outputs": [],
   "source": [
    "train['direction'] = np.sign(train['returns'])"
   ]
  },
  {
   "cell_type": "code",
   "execution_count": 40,
   "metadata": {},
   "outputs": [
    {
     "data": {
      "text/html": [
       "<div>\n",
       "<style scoped>\n",
       "    .dataframe tbody tr th:only-of-type {\n",
       "        vertical-align: middle;\n",
       "    }\n",
       "\n",
       "    .dataframe tbody tr th {\n",
       "        vertical-align: top;\n",
       "    }\n",
       "\n",
       "    .dataframe thead th {\n",
       "        text-align: right;\n",
       "    }\n",
       "</style>\n",
       "<table border=\"1\" class=\"dataframe\">\n",
       "  <thead>\n",
       "    <tr style=\"text-align: right;\">\n",
       "      <th></th>\n",
       "      <th>open</th>\n",
       "      <th>high</th>\n",
       "      <th>low</th>\n",
       "      <th>close</th>\n",
       "      <th>returns</th>\n",
       "      <th>direction</th>\n",
       "      <th>lag_1</th>\n",
       "      <th>lag_2</th>\n",
       "      <th>lag_3</th>\n",
       "      <th>lag_4</th>\n",
       "      <th>lag_5</th>\n",
       "    </tr>\n",
       "    <tr>\n",
       "      <th>time</th>\n",
       "      <th></th>\n",
       "      <th></th>\n",
       "      <th></th>\n",
       "      <th></th>\n",
       "      <th></th>\n",
       "      <th></th>\n",
       "      <th></th>\n",
       "      <th></th>\n",
       "      <th></th>\n",
       "      <th></th>\n",
       "      <th></th>\n",
       "    </tr>\n",
       "  </thead>\n",
       "  <tbody>\n",
       "    <tr>\n",
       "      <th>2020-01-02 01:30:00</th>\n",
       "      <td>1.12211</td>\n",
       "      <td>1.12217</td>\n",
       "      <td>1.12207</td>\n",
       "      <td>1.12208</td>\n",
       "      <td>-0.000027</td>\n",
       "      <td>-1.0</td>\n",
       "      <td>0.000089</td>\n",
       "      <td>0.000526</td>\n",
       "      <td>-0.000080</td>\n",
       "      <td>0.000062</td>\n",
       "      <td>0.000633</td>\n",
       "    </tr>\n",
       "    <tr>\n",
       "      <th>2020-01-02 01:45:00</th>\n",
       "      <td>1.12209</td>\n",
       "      <td>1.12209</td>\n",
       "      <td>1.12178</td>\n",
       "      <td>1.12189</td>\n",
       "      <td>-0.000169</td>\n",
       "      <td>-1.0</td>\n",
       "      <td>-0.000027</td>\n",
       "      <td>0.000089</td>\n",
       "      <td>0.000526</td>\n",
       "      <td>-0.000080</td>\n",
       "      <td>0.000062</td>\n",
       "    </tr>\n",
       "    <tr>\n",
       "      <th>2020-01-02 02:00:00</th>\n",
       "      <td>1.12189</td>\n",
       "      <td>1.12192</td>\n",
       "      <td>1.12162</td>\n",
       "      <td>1.12164</td>\n",
       "      <td>-0.000223</td>\n",
       "      <td>-1.0</td>\n",
       "      <td>-0.000169</td>\n",
       "      <td>-0.000027</td>\n",
       "      <td>0.000089</td>\n",
       "      <td>0.000526</td>\n",
       "      <td>-0.000080</td>\n",
       "    </tr>\n",
       "    <tr>\n",
       "      <th>2020-01-02 02:15:00</th>\n",
       "      <td>1.12163</td>\n",
       "      <td>1.12170</td>\n",
       "      <td>1.12157</td>\n",
       "      <td>1.12162</td>\n",
       "      <td>-0.000018</td>\n",
       "      <td>-1.0</td>\n",
       "      <td>-0.000223</td>\n",
       "      <td>-0.000169</td>\n",
       "      <td>-0.000027</td>\n",
       "      <td>0.000089</td>\n",
       "      <td>0.000526</td>\n",
       "    </tr>\n",
       "    <tr>\n",
       "      <th>2020-01-02 02:30:00</th>\n",
       "      <td>1.12164</td>\n",
       "      <td>1.12175</td>\n",
       "      <td>1.12158</td>\n",
       "      <td>1.12173</td>\n",
       "      <td>0.000098</td>\n",
       "      <td>1.0</td>\n",
       "      <td>-0.000018</td>\n",
       "      <td>-0.000223</td>\n",
       "      <td>-0.000169</td>\n",
       "      <td>-0.000027</td>\n",
       "      <td>0.000089</td>\n",
       "    </tr>\n",
       "  </tbody>\n",
       "</table>\n",
       "</div>"
      ],
      "text/plain": [
       "                        open     high      low    close   returns  direction  \\\n",
       "time                                                                           \n",
       "2020-01-02 01:30:00  1.12211  1.12217  1.12207  1.12208 -0.000027       -1.0   \n",
       "2020-01-02 01:45:00  1.12209  1.12209  1.12178  1.12189 -0.000169       -1.0   \n",
       "2020-01-02 02:00:00  1.12189  1.12192  1.12162  1.12164 -0.000223       -1.0   \n",
       "2020-01-02 02:15:00  1.12163  1.12170  1.12157  1.12162 -0.000018       -1.0   \n",
       "2020-01-02 02:30:00  1.12164  1.12175  1.12158  1.12173  0.000098        1.0   \n",
       "\n",
       "                        lag_1     lag_2     lag_3     lag_4     lag_5  \n",
       "time                                                                   \n",
       "2020-01-02 01:30:00  0.000089  0.000526 -0.000080  0.000062  0.000633  \n",
       "2020-01-02 01:45:00 -0.000027  0.000089  0.000526 -0.000080  0.000062  \n",
       "2020-01-02 02:00:00 -0.000169 -0.000027  0.000089  0.000526 -0.000080  \n",
       "2020-01-02 02:15:00 -0.000223 -0.000169 -0.000027  0.000089  0.000526  \n",
       "2020-01-02 02:30:00 -0.000018 -0.000223 -0.000169 -0.000027  0.000089  "
      ]
     },
     "execution_count": 40,
     "metadata": {},
     "output_type": "execute_result"
    }
   ],
   "source": [
    "train.head()"
   ]
  },
  {
   "cell_type": "code",
   "execution_count": 37,
   "metadata": {},
   "outputs": [
    {
     "data": {
      "text/plain": [
       "direction\n",
       " 1.0    38547\n",
       "-1.0    38254\n",
       " 0.0     1171\n",
       "Name: count, dtype: int64"
      ]
     },
     "execution_count": 37,
     "metadata": {},
     "output_type": "execute_result"
    }
   ],
   "source": [
    "train['direction'].value_counts()"
   ]
  },
  {
   "cell_type": "code",
   "execution_count": 38,
   "metadata": {},
   "outputs": [],
   "source": [
    "lags = 5\n",
    "cols = []  \n",
    "for lag in range(1,lags+1):\n",
    "    col = 'lag_{}'.format(lag)\n",
    "    train[col] = train['returns'].shift(lag)\n",
    "    cols.append(col)\n",
    "train.dropna(inplace=True)"
   ]
  },
  {
   "cell_type": "code",
   "execution_count": 39,
   "metadata": {},
   "outputs": [
    {
     "data": {
      "text/html": [
       "<div>\n",
       "<style scoped>\n",
       "    .dataframe tbody tr th:only-of-type {\n",
       "        vertical-align: middle;\n",
       "    }\n",
       "\n",
       "    .dataframe tbody tr th {\n",
       "        vertical-align: top;\n",
       "    }\n",
       "\n",
       "    .dataframe thead th {\n",
       "        text-align: right;\n",
       "    }\n",
       "</style>\n",
       "<table border=\"1\" class=\"dataframe\">\n",
       "  <thead>\n",
       "    <tr style=\"text-align: right;\">\n",
       "      <th></th>\n",
       "      <th>open</th>\n",
       "      <th>high</th>\n",
       "      <th>low</th>\n",
       "      <th>close</th>\n",
       "      <th>returns</th>\n",
       "      <th>direction</th>\n",
       "      <th>lag_1</th>\n",
       "      <th>lag_2</th>\n",
       "      <th>lag_3</th>\n",
       "      <th>lag_4</th>\n",
       "      <th>lag_5</th>\n",
       "    </tr>\n",
       "    <tr>\n",
       "      <th>time</th>\n",
       "      <th></th>\n",
       "      <th></th>\n",
       "      <th></th>\n",
       "      <th></th>\n",
       "      <th></th>\n",
       "      <th></th>\n",
       "      <th></th>\n",
       "      <th></th>\n",
       "      <th></th>\n",
       "      <th></th>\n",
       "      <th></th>\n",
       "    </tr>\n",
       "  </thead>\n",
       "  <tbody>\n",
       "    <tr>\n",
       "      <th>2020-01-02 01:30:00</th>\n",
       "      <td>1.12211</td>\n",
       "      <td>1.12217</td>\n",
       "      <td>1.12207</td>\n",
       "      <td>1.12208</td>\n",
       "      <td>-0.000027</td>\n",
       "      <td>-1.0</td>\n",
       "      <td>0.000089</td>\n",
       "      <td>0.000526</td>\n",
       "      <td>-0.000080</td>\n",
       "      <td>0.000062</td>\n",
       "      <td>0.000633</td>\n",
       "    </tr>\n",
       "    <tr>\n",
       "      <th>2020-01-02 01:45:00</th>\n",
       "      <td>1.12209</td>\n",
       "      <td>1.12209</td>\n",
       "      <td>1.12178</td>\n",
       "      <td>1.12189</td>\n",
       "      <td>-0.000169</td>\n",
       "      <td>-1.0</td>\n",
       "      <td>-0.000027</td>\n",
       "      <td>0.000089</td>\n",
       "      <td>0.000526</td>\n",
       "      <td>-0.000080</td>\n",
       "      <td>0.000062</td>\n",
       "    </tr>\n",
       "    <tr>\n",
       "      <th>2020-01-02 02:00:00</th>\n",
       "      <td>1.12189</td>\n",
       "      <td>1.12192</td>\n",
       "      <td>1.12162</td>\n",
       "      <td>1.12164</td>\n",
       "      <td>-0.000223</td>\n",
       "      <td>-1.0</td>\n",
       "      <td>-0.000169</td>\n",
       "      <td>-0.000027</td>\n",
       "      <td>0.000089</td>\n",
       "      <td>0.000526</td>\n",
       "      <td>-0.000080</td>\n",
       "    </tr>\n",
       "    <tr>\n",
       "      <th>2020-01-02 02:15:00</th>\n",
       "      <td>1.12163</td>\n",
       "      <td>1.12170</td>\n",
       "      <td>1.12157</td>\n",
       "      <td>1.12162</td>\n",
       "      <td>-0.000018</td>\n",
       "      <td>-1.0</td>\n",
       "      <td>-0.000223</td>\n",
       "      <td>-0.000169</td>\n",
       "      <td>-0.000027</td>\n",
       "      <td>0.000089</td>\n",
       "      <td>0.000526</td>\n",
       "    </tr>\n",
       "    <tr>\n",
       "      <th>2020-01-02 02:30:00</th>\n",
       "      <td>1.12164</td>\n",
       "      <td>1.12175</td>\n",
       "      <td>1.12158</td>\n",
       "      <td>1.12173</td>\n",
       "      <td>0.000098</td>\n",
       "      <td>1.0</td>\n",
       "      <td>-0.000018</td>\n",
       "      <td>-0.000223</td>\n",
       "      <td>-0.000169</td>\n",
       "      <td>-0.000027</td>\n",
       "      <td>0.000089</td>\n",
       "    </tr>\n",
       "  </tbody>\n",
       "</table>\n",
       "</div>"
      ],
      "text/plain": [
       "                        open     high      low    close   returns  direction  \\\n",
       "time                                                                           \n",
       "2020-01-02 01:30:00  1.12211  1.12217  1.12207  1.12208 -0.000027       -1.0   \n",
       "2020-01-02 01:45:00  1.12209  1.12209  1.12178  1.12189 -0.000169       -1.0   \n",
       "2020-01-02 02:00:00  1.12189  1.12192  1.12162  1.12164 -0.000223       -1.0   \n",
       "2020-01-02 02:15:00  1.12163  1.12170  1.12157  1.12162 -0.000018       -1.0   \n",
       "2020-01-02 02:30:00  1.12164  1.12175  1.12158  1.12173  0.000098        1.0   \n",
       "\n",
       "                        lag_1     lag_2     lag_3     lag_4     lag_5  \n",
       "time                                                                   \n",
       "2020-01-02 01:30:00  0.000089  0.000526 -0.000080  0.000062  0.000633  \n",
       "2020-01-02 01:45:00 -0.000027  0.000089  0.000526 -0.000080  0.000062  \n",
       "2020-01-02 02:00:00 -0.000169 -0.000027  0.000089  0.000526 -0.000080  \n",
       "2020-01-02 02:15:00 -0.000223 -0.000169 -0.000027  0.000089  0.000526  \n",
       "2020-01-02 02:30:00 -0.000018 -0.000223 -0.000169 -0.000027  0.000089  "
      ]
     },
     "execution_count": 39,
     "metadata": {},
     "output_type": "execute_result"
    }
   ],
   "source": [
    "train.head()"
   ]
  },
  {
   "cell_type": "code",
   "execution_count": 41,
   "metadata": {},
   "outputs": [],
   "source": [
    "from sklearn.linear_model import LogisticRegression"
   ]
  },
  {
   "cell_type": "code",
   "execution_count": 47,
   "metadata": {},
   "outputs": [
    {
     "data": {
      "text/html": [
       "<style>#sk-container-id-4 {color: black;}#sk-container-id-4 pre{padding: 0;}#sk-container-id-4 div.sk-toggleable {background-color: white;}#sk-container-id-4 label.sk-toggleable__label {cursor: pointer;display: block;width: 100%;margin-bottom: 0;padding: 0.3em;box-sizing: border-box;text-align: center;}#sk-container-id-4 label.sk-toggleable__label-arrow:before {content: \"▸\";float: left;margin-right: 0.25em;color: #696969;}#sk-container-id-4 label.sk-toggleable__label-arrow:hover:before {color: black;}#sk-container-id-4 div.sk-estimator:hover label.sk-toggleable__label-arrow:before {color: black;}#sk-container-id-4 div.sk-toggleable__content {max-height: 0;max-width: 0;overflow: hidden;text-align: left;background-color: #f0f8ff;}#sk-container-id-4 div.sk-toggleable__content pre {margin: 0.2em;color: black;border-radius: 0.25em;background-color: #f0f8ff;}#sk-container-id-4 input.sk-toggleable__control:checked~div.sk-toggleable__content {max-height: 200px;max-width: 100%;overflow: auto;}#sk-container-id-4 input.sk-toggleable__control:checked~label.sk-toggleable__label-arrow:before {content: \"▾\";}#sk-container-id-4 div.sk-estimator input.sk-toggleable__control:checked~label.sk-toggleable__label {background-color: #d4ebff;}#sk-container-id-4 div.sk-label input.sk-toggleable__control:checked~label.sk-toggleable__label {background-color: #d4ebff;}#sk-container-id-4 input.sk-hidden--visually {border: 0;clip: rect(1px 1px 1px 1px);clip: rect(1px, 1px, 1px, 1px);height: 1px;margin: -1px;overflow: hidden;padding: 0;position: absolute;width: 1px;}#sk-container-id-4 div.sk-estimator {font-family: monospace;background-color: #f0f8ff;border: 1px dotted black;border-radius: 0.25em;box-sizing: border-box;margin-bottom: 0.5em;}#sk-container-id-4 div.sk-estimator:hover {background-color: #d4ebff;}#sk-container-id-4 div.sk-parallel-item::after {content: \"\";width: 100%;border-bottom: 1px solid gray;flex-grow: 1;}#sk-container-id-4 div.sk-label:hover label.sk-toggleable__label {background-color: #d4ebff;}#sk-container-id-4 div.sk-serial::before {content: \"\";position: absolute;border-left: 1px solid gray;box-sizing: border-box;top: 0;bottom: 0;left: 50%;z-index: 0;}#sk-container-id-4 div.sk-serial {display: flex;flex-direction: column;align-items: center;background-color: white;padding-right: 0.2em;padding-left: 0.2em;position: relative;}#sk-container-id-4 div.sk-item {position: relative;z-index: 1;}#sk-container-id-4 div.sk-parallel {display: flex;align-items: stretch;justify-content: center;background-color: white;position: relative;}#sk-container-id-4 div.sk-item::before, #sk-container-id-4 div.sk-parallel-item::before {content: \"\";position: absolute;border-left: 1px solid gray;box-sizing: border-box;top: 0;bottom: 0;left: 50%;z-index: -1;}#sk-container-id-4 div.sk-parallel-item {display: flex;flex-direction: column;z-index: 1;position: relative;background-color: white;}#sk-container-id-4 div.sk-parallel-item:first-child::after {align-self: flex-end;width: 50%;}#sk-container-id-4 div.sk-parallel-item:last-child::after {align-self: flex-start;width: 50%;}#sk-container-id-4 div.sk-parallel-item:only-child::after {width: 0;}#sk-container-id-4 div.sk-dashed-wrapped {border: 1px dashed gray;margin: 0 0.4em 0.5em 0.4em;box-sizing: border-box;padding-bottom: 0.4em;background-color: white;}#sk-container-id-4 div.sk-label label {font-family: monospace;font-weight: bold;display: inline-block;line-height: 1.2em;}#sk-container-id-4 div.sk-label-container {text-align: center;}#sk-container-id-4 div.sk-container {/* jupyter's `normalize.less` sets `[hidden] { display: none; }` but bootstrap.min.css set `[hidden] { display: none !important; }` so we also need the `!important` here to be able to override the default hidden behavior on the sphinx rendered scikit-learn.org. See: https://github.com/scikit-learn/scikit-learn/issues/21755 */display: inline-block !important;position: relative;}#sk-container-id-4 div.sk-text-repr-fallback {display: none;}</style><div id=\"sk-container-id-4\" class=\"sk-top-container\"><div class=\"sk-text-repr-fallback\"><pre>LogisticRegression(C=1000000.0, max_iter=100000, multi_class=&#x27;ovr&#x27;)</pre><b>In a Jupyter environment, please rerun this cell to show the HTML representation or trust the notebook. <br />On GitHub, the HTML representation is unable to render, please try loading this page with nbviewer.org.</b></div><div class=\"sk-container\" hidden><div class=\"sk-item\"><div class=\"sk-estimator sk-toggleable\"><input class=\"sk-toggleable__control sk-hidden--visually\" id=\"sk-estimator-id-4\" type=\"checkbox\" checked><label for=\"sk-estimator-id-4\" class=\"sk-toggleable__label sk-toggleable__label-arrow\">LogisticRegression</label><div class=\"sk-toggleable__content\"><pre>LogisticRegression(C=1000000.0, max_iter=100000, multi_class=&#x27;ovr&#x27;)</pre></div></div></div></div></div>"
      ],
      "text/plain": [
       "LogisticRegression(C=1000000.0, max_iter=100000, multi_class='ovr')"
      ]
     },
     "execution_count": 47,
     "metadata": {},
     "output_type": "execute_result"
    }
   ],
   "source": [
    "lm = LogisticRegression(C = 1e6, max_iter = 100000, multi_class = \"ovr\")\n",
    "\n",
    "lm.fit(train[cols], train['direction'])\n"
   ]
  },
  {
   "cell_type": "code",
   "execution_count": 48,
   "metadata": {},
   "outputs": [],
   "source": [
    "train['prediction'] = lm.predict(train[cols])"
   ]
  },
  {
   "cell_type": "code",
   "execution_count": 49,
   "metadata": {},
   "outputs": [
    {
     "data": {
      "text/html": [
       "<div>\n",
       "<style scoped>\n",
       "    .dataframe tbody tr th:only-of-type {\n",
       "        vertical-align: middle;\n",
       "    }\n",
       "\n",
       "    .dataframe tbody tr th {\n",
       "        vertical-align: top;\n",
       "    }\n",
       "\n",
       "    .dataframe thead th {\n",
       "        text-align: right;\n",
       "    }\n",
       "</style>\n",
       "<table border=\"1\" class=\"dataframe\">\n",
       "  <thead>\n",
       "    <tr style=\"text-align: right;\">\n",
       "      <th></th>\n",
       "      <th>open</th>\n",
       "      <th>high</th>\n",
       "      <th>low</th>\n",
       "      <th>close</th>\n",
       "      <th>returns</th>\n",
       "      <th>direction</th>\n",
       "      <th>lag_1</th>\n",
       "      <th>lag_2</th>\n",
       "      <th>lag_3</th>\n",
       "      <th>lag_4</th>\n",
       "      <th>lag_5</th>\n",
       "      <th>prediction</th>\n",
       "    </tr>\n",
       "    <tr>\n",
       "      <th>time</th>\n",
       "      <th></th>\n",
       "      <th></th>\n",
       "      <th></th>\n",
       "      <th></th>\n",
       "      <th></th>\n",
       "      <th></th>\n",
       "      <th></th>\n",
       "      <th></th>\n",
       "      <th></th>\n",
       "      <th></th>\n",
       "      <th></th>\n",
       "      <th></th>\n",
       "    </tr>\n",
       "  </thead>\n",
       "  <tbody>\n",
       "    <tr>\n",
       "      <th>2020-01-02 01:30:00</th>\n",
       "      <td>1.12211</td>\n",
       "      <td>1.12217</td>\n",
       "      <td>1.12207</td>\n",
       "      <td>1.12208</td>\n",
       "      <td>-0.000027</td>\n",
       "      <td>-1.0</td>\n",
       "      <td>0.000089</td>\n",
       "      <td>0.000526</td>\n",
       "      <td>-0.000080</td>\n",
       "      <td>0.000062</td>\n",
       "      <td>0.000633</td>\n",
       "      <td>-1.0</td>\n",
       "    </tr>\n",
       "    <tr>\n",
       "      <th>2020-01-02 01:45:00</th>\n",
       "      <td>1.12209</td>\n",
       "      <td>1.12209</td>\n",
       "      <td>1.12178</td>\n",
       "      <td>1.12189</td>\n",
       "      <td>-0.000169</td>\n",
       "      <td>-1.0</td>\n",
       "      <td>-0.000027</td>\n",
       "      <td>0.000089</td>\n",
       "      <td>0.000526</td>\n",
       "      <td>-0.000080</td>\n",
       "      <td>0.000062</td>\n",
       "      <td>-1.0</td>\n",
       "    </tr>\n",
       "    <tr>\n",
       "      <th>2020-01-02 02:00:00</th>\n",
       "      <td>1.12189</td>\n",
       "      <td>1.12192</td>\n",
       "      <td>1.12162</td>\n",
       "      <td>1.12164</td>\n",
       "      <td>-0.000223</td>\n",
       "      <td>-1.0</td>\n",
       "      <td>-0.000169</td>\n",
       "      <td>-0.000027</td>\n",
       "      <td>0.000089</td>\n",
       "      <td>0.000526</td>\n",
       "      <td>-0.000080</td>\n",
       "      <td>1.0</td>\n",
       "    </tr>\n",
       "    <tr>\n",
       "      <th>2020-01-02 02:15:00</th>\n",
       "      <td>1.12163</td>\n",
       "      <td>1.12170</td>\n",
       "      <td>1.12157</td>\n",
       "      <td>1.12162</td>\n",
       "      <td>-0.000018</td>\n",
       "      <td>-1.0</td>\n",
       "      <td>-0.000223</td>\n",
       "      <td>-0.000169</td>\n",
       "      <td>-0.000027</td>\n",
       "      <td>0.000089</td>\n",
       "      <td>0.000526</td>\n",
       "      <td>1.0</td>\n",
       "    </tr>\n",
       "    <tr>\n",
       "      <th>2020-01-02 02:30:00</th>\n",
       "      <td>1.12164</td>\n",
       "      <td>1.12175</td>\n",
       "      <td>1.12158</td>\n",
       "      <td>1.12173</td>\n",
       "      <td>0.000098</td>\n",
       "      <td>1.0</td>\n",
       "      <td>-0.000018</td>\n",
       "      <td>-0.000223</td>\n",
       "      <td>-0.000169</td>\n",
       "      <td>-0.000027</td>\n",
       "      <td>0.000089</td>\n",
       "      <td>1.0</td>\n",
       "    </tr>\n",
       "    <tr>\n",
       "      <th>...</th>\n",
       "      <td>...</td>\n",
       "      <td>...</td>\n",
       "      <td>...</td>\n",
       "      <td>...</td>\n",
       "      <td>...</td>\n",
       "      <td>...</td>\n",
       "      <td>...</td>\n",
       "      <td>...</td>\n",
       "      <td>...</td>\n",
       "      <td>...</td>\n",
       "      <td>...</td>\n",
       "      <td>...</td>\n",
       "    </tr>\n",
       "    <tr>\n",
       "      <th>2023-02-16 12:45:00</th>\n",
       "      <td>1.07074</td>\n",
       "      <td>1.07129</td>\n",
       "      <td>1.07041</td>\n",
       "      <td>1.07063</td>\n",
       "      <td>-0.000093</td>\n",
       "      <td>-1.0</td>\n",
       "      <td>0.000009</td>\n",
       "      <td>0.000140</td>\n",
       "      <td>0.000476</td>\n",
       "      <td>0.000552</td>\n",
       "      <td>-0.000617</td>\n",
       "      <td>-1.0</td>\n",
       "    </tr>\n",
       "    <tr>\n",
       "      <th>2023-02-16 13:00:00</th>\n",
       "      <td>1.07063</td>\n",
       "      <td>1.07067</td>\n",
       "      <td>1.07010</td>\n",
       "      <td>1.07016</td>\n",
       "      <td>-0.000439</td>\n",
       "      <td>-1.0</td>\n",
       "      <td>-0.000093</td>\n",
       "      <td>0.000009</td>\n",
       "      <td>0.000140</td>\n",
       "      <td>0.000476</td>\n",
       "      <td>0.000552</td>\n",
       "      <td>-1.0</td>\n",
       "    </tr>\n",
       "    <tr>\n",
       "      <th>2023-02-16 13:15:00</th>\n",
       "      <td>1.07016</td>\n",
       "      <td>1.07020</td>\n",
       "      <td>1.06946</td>\n",
       "      <td>1.06946</td>\n",
       "      <td>-0.000654</td>\n",
       "      <td>-1.0</td>\n",
       "      <td>-0.000439</td>\n",
       "      <td>-0.000093</td>\n",
       "      <td>0.000009</td>\n",
       "      <td>0.000140</td>\n",
       "      <td>0.000476</td>\n",
       "      <td>1.0</td>\n",
       "    </tr>\n",
       "    <tr>\n",
       "      <th>2023-02-16 13:30:00</th>\n",
       "      <td>1.06947</td>\n",
       "      <td>1.07033</td>\n",
       "      <td>1.06935</td>\n",
       "      <td>1.07018</td>\n",
       "      <td>0.000673</td>\n",
       "      <td>1.0</td>\n",
       "      <td>-0.000654</td>\n",
       "      <td>-0.000439</td>\n",
       "      <td>-0.000093</td>\n",
       "      <td>0.000009</td>\n",
       "      <td>0.000140</td>\n",
       "      <td>1.0</td>\n",
       "    </tr>\n",
       "    <tr>\n",
       "      <th>2023-02-16 13:45:00</th>\n",
       "      <td>1.07018</td>\n",
       "      <td>1.07065</td>\n",
       "      <td>1.06999</td>\n",
       "      <td>1.07051</td>\n",
       "      <td>0.000308</td>\n",
       "      <td>1.0</td>\n",
       "      <td>0.000673</td>\n",
       "      <td>-0.000654</td>\n",
       "      <td>-0.000439</td>\n",
       "      <td>-0.000093</td>\n",
       "      <td>0.000009</td>\n",
       "      <td>-1.0</td>\n",
       "    </tr>\n",
       "  </tbody>\n",
       "</table>\n",
       "<p>77967 rows × 12 columns</p>\n",
       "</div>"
      ],
      "text/plain": [
       "                        open     high      low    close   returns  direction  \\\n",
       "time                                                                           \n",
       "2020-01-02 01:30:00  1.12211  1.12217  1.12207  1.12208 -0.000027       -1.0   \n",
       "2020-01-02 01:45:00  1.12209  1.12209  1.12178  1.12189 -0.000169       -1.0   \n",
       "2020-01-02 02:00:00  1.12189  1.12192  1.12162  1.12164 -0.000223       -1.0   \n",
       "2020-01-02 02:15:00  1.12163  1.12170  1.12157  1.12162 -0.000018       -1.0   \n",
       "2020-01-02 02:30:00  1.12164  1.12175  1.12158  1.12173  0.000098        1.0   \n",
       "...                      ...      ...      ...      ...       ...        ...   \n",
       "2023-02-16 12:45:00  1.07074  1.07129  1.07041  1.07063 -0.000093       -1.0   \n",
       "2023-02-16 13:00:00  1.07063  1.07067  1.07010  1.07016 -0.000439       -1.0   \n",
       "2023-02-16 13:15:00  1.07016  1.07020  1.06946  1.06946 -0.000654       -1.0   \n",
       "2023-02-16 13:30:00  1.06947  1.07033  1.06935  1.07018  0.000673        1.0   \n",
       "2023-02-16 13:45:00  1.07018  1.07065  1.06999  1.07051  0.000308        1.0   \n",
       "\n",
       "                        lag_1     lag_2     lag_3     lag_4     lag_5  \\\n",
       "time                                                                    \n",
       "2020-01-02 01:30:00  0.000089  0.000526 -0.000080  0.000062  0.000633   \n",
       "2020-01-02 01:45:00 -0.000027  0.000089  0.000526 -0.000080  0.000062   \n",
       "2020-01-02 02:00:00 -0.000169 -0.000027  0.000089  0.000526 -0.000080   \n",
       "2020-01-02 02:15:00 -0.000223 -0.000169 -0.000027  0.000089  0.000526   \n",
       "2020-01-02 02:30:00 -0.000018 -0.000223 -0.000169 -0.000027  0.000089   \n",
       "...                       ...       ...       ...       ...       ...   \n",
       "2023-02-16 12:45:00  0.000009  0.000140  0.000476  0.000552 -0.000617   \n",
       "2023-02-16 13:00:00 -0.000093  0.000009  0.000140  0.000476  0.000552   \n",
       "2023-02-16 13:15:00 -0.000439 -0.000093  0.000009  0.000140  0.000476   \n",
       "2023-02-16 13:30:00 -0.000654 -0.000439 -0.000093  0.000009  0.000140   \n",
       "2023-02-16 13:45:00  0.000673 -0.000654 -0.000439 -0.000093  0.000009   \n",
       "\n",
       "                     prediction  \n",
       "time                             \n",
       "2020-01-02 01:30:00        -1.0  \n",
       "2020-01-02 01:45:00        -1.0  \n",
       "2020-01-02 02:00:00         1.0  \n",
       "2020-01-02 02:15:00         1.0  \n",
       "2020-01-02 02:30:00         1.0  \n",
       "...                         ...  \n",
       "2023-02-16 12:45:00        -1.0  \n",
       "2023-02-16 13:00:00        -1.0  \n",
       "2023-02-16 13:15:00         1.0  \n",
       "2023-02-16 13:30:00         1.0  \n",
       "2023-02-16 13:45:00        -1.0  \n",
       "\n",
       "[77967 rows x 12 columns]"
      ]
     },
     "execution_count": 49,
     "metadata": {},
     "output_type": "execute_result"
    }
   ],
   "source": [
    "train"
   ]
  },
  {
   "cell_type": "code",
   "execution_count": 50,
   "metadata": {},
   "outputs": [
    {
     "data": {
      "text/plain": [
       "prediction\n",
       " 1.0    43932\n",
       "-1.0    34035\n",
       "Name: count, dtype: int64"
      ]
     },
     "execution_count": 50,
     "metadata": {},
     "output_type": "execute_result"
    }
   ],
   "source": [
    "train['prediction'].value_counts()"
   ]
  },
  {
   "cell_type": "code",
   "execution_count": 52,
   "metadata": {},
   "outputs": [
    {
     "data": {
      "text/plain": [
       " 1.0    39904\n",
       "-1.0    36892\n",
       " 0.0     1171\n",
       "Name: count, dtype: int64"
      ]
     },
     "execution_count": 52,
     "metadata": {},
     "output_type": "execute_result"
    }
   ],
   "source": [
    "hits = np.sign(train['prediction'] * train['direction']).value_counts()\n",
    "hits"
   ]
  },
  {
   "cell_type": "code",
   "execution_count": 54,
   "metadata": {},
   "outputs": [
    {
     "data": {
      "text/plain": [
       "51.18062770146344"
      ]
     },
     "execution_count": 54,
     "metadata": {},
     "output_type": "execute_result"
    }
   ],
   "source": [
    "hit_ratio = hits[1] / sum(hits) *100\n",
    "hit_ratio"
   ]
  },
  {
   "cell_type": "code",
   "execution_count": 56,
   "metadata": {},
   "outputs": [],
   "source": [
    "from sklearn.metrics import accuracy_score"
   ]
  },
  {
   "cell_type": "code",
   "execution_count": 58,
   "metadata": {},
   "outputs": [
    {
     "data": {
      "text/plain": [
       "0.5118062770146344"
      ]
     },
     "execution_count": 58,
     "metadata": {},
     "output_type": "execute_result"
    }
   ],
   "source": [
    "# using sklearn\n",
    "accuracy_score(train['direction'], train['prediction'])"
   ]
  },
  {
   "cell_type": "markdown",
   "metadata": {},
   "source": [
    "# In sample backtesting "
   ]
  },
  {
   "cell_type": "code",
   "execution_count": 59,
   "metadata": {},
   "outputs": [],
   "source": [
    "train['strategy'] = train['prediction'] * train['returns']"
   ]
  },
  {
   "cell_type": "code",
   "execution_count": 60,
   "metadata": {},
   "outputs": [],
   "source": [
    "train['creturns'] = train['returns'].cumsum().apply(np.exp)\n",
    "train['cstrategy'] = train['strategy'].cumsum().apply(np.exp)\n"
   ]
  },
  {
   "cell_type": "code",
   "execution_count": 80,
   "metadata": {},
   "outputs": [
    {
     "data": {
      "image/png": "[encoded data removed]",
      "text/plain": [
       "<Figure size 1500x800 with 1 Axes>"
      ]
     },
     "metadata": {},
     "output_type": "display_data"
    }
   ],
   "source": [
    "train[['creturns','cstrategy']].plot(figsize=(15,8), title='Logistic Regression | In-Sample Performance',color=['blue','red'])\n",
    "plt.show()"
   ]
  },
  {
   "cell_type": "markdown",
   "metadata": {},
   "source": [
    "# Out sample backtesting"
   ]
  },
  {
   "cell_type": "code",
   "execution_count": 63,
   "metadata": {},
   "outputs": [
    {
     "data": {
      "text/html": [
       "<div>\n",
       "<style scoped>\n",
       "    .dataframe tbody tr th:only-of-type {\n",
       "        vertical-align: middle;\n",
       "    }\n",
       "\n",
       "    .dataframe tbody tr th {\n",
       "        vertical-align: top;\n",
       "    }\n",
       "\n",
       "    .dataframe thead th {\n",
       "        text-align: right;\n",
       "    }\n",
       "</style>\n",
       "<table border=\"1\" class=\"dataframe\">\n",
       "  <thead>\n",
       "    <tr style=\"text-align: right;\">\n",
       "      <th></th>\n",
       "      <th>open</th>\n",
       "      <th>high</th>\n",
       "      <th>low</th>\n",
       "      <th>close</th>\n",
       "    </tr>\n",
       "    <tr>\n",
       "      <th>time</th>\n",
       "      <th></th>\n",
       "      <th></th>\n",
       "      <th></th>\n",
       "      <th></th>\n",
       "    </tr>\n",
       "  </thead>\n",
       "  <tbody>\n",
       "    <tr>\n",
       "      <th>2023-02-16 14:00:00</th>\n",
       "      <td>1.07051</td>\n",
       "      <td>1.07081</td>\n",
       "      <td>1.07035</td>\n",
       "      <td>1.07057</td>\n",
       "    </tr>\n",
       "    <tr>\n",
       "      <th>2023-02-16 14:15:00</th>\n",
       "      <td>1.07057</td>\n",
       "      <td>1.07079</td>\n",
       "      <td>1.06966</td>\n",
       "      <td>1.06973</td>\n",
       "    </tr>\n",
       "    <tr>\n",
       "      <th>2023-02-16 14:30:00</th>\n",
       "      <td>1.06975</td>\n",
       "      <td>1.07020</td>\n",
       "      <td>1.06929</td>\n",
       "      <td>1.07019</td>\n",
       "    </tr>\n",
       "    <tr>\n",
       "      <th>2023-02-16 14:45:00</th>\n",
       "      <td>1.07019</td>\n",
       "      <td>1.07026</td>\n",
       "      <td>1.06917</td>\n",
       "      <td>1.06937</td>\n",
       "    </tr>\n",
       "    <tr>\n",
       "      <th>2023-02-16 15:00:00</th>\n",
       "      <td>1.06941</td>\n",
       "      <td>1.07012</td>\n",
       "      <td>1.06941</td>\n",
       "      <td>1.06999</td>\n",
       "    </tr>\n",
       "    <tr>\n",
       "      <th>...</th>\n",
       "      <td>...</td>\n",
       "      <td>...</td>\n",
       "      <td>...</td>\n",
       "      <td>...</td>\n",
       "    </tr>\n",
       "    <tr>\n",
       "      <th>2023-11-28 14:15:00</th>\n",
       "      <td>1.09586</td>\n",
       "      <td>1.09623</td>\n",
       "      <td>1.09525</td>\n",
       "      <td>1.09536</td>\n",
       "    </tr>\n",
       "    <tr>\n",
       "      <th>2023-11-28 14:30:00</th>\n",
       "      <td>1.09536</td>\n",
       "      <td>1.09581</td>\n",
       "      <td>1.09519</td>\n",
       "      <td>1.09562</td>\n",
       "    </tr>\n",
       "    <tr>\n",
       "      <th>2023-11-28 14:45:00</th>\n",
       "      <td>1.09561</td>\n",
       "      <td>1.09564</td>\n",
       "      <td>1.09472</td>\n",
       "      <td>1.09505</td>\n",
       "    </tr>\n",
       "    <tr>\n",
       "      <th>2023-11-28 15:00:00</th>\n",
       "      <td>1.09507</td>\n",
       "      <td>1.09520</td>\n",
       "      <td>1.09453</td>\n",
       "      <td>1.09493</td>\n",
       "    </tr>\n",
       "    <tr>\n",
       "      <th>2023-11-28 15:15:00</th>\n",
       "      <td>1.09493</td>\n",
       "      <td>1.09643</td>\n",
       "      <td>1.09473</td>\n",
       "      <td>1.09615</td>\n",
       "    </tr>\n",
       "  </tbody>\n",
       "</table>\n",
       "<p>19494 rows × 4 columns</p>\n",
       "</div>"
      ],
      "text/plain": [
       "                        open     high      low    close\n",
       "time                                                   \n",
       "2023-02-16 14:00:00  1.07051  1.07081  1.07035  1.07057\n",
       "2023-02-16 14:15:00  1.07057  1.07079  1.06966  1.06973\n",
       "2023-02-16 14:30:00  1.06975  1.07020  1.06929  1.07019\n",
       "2023-02-16 14:45:00  1.07019  1.07026  1.06917  1.06937\n",
       "2023-02-16 15:00:00  1.06941  1.07012  1.06941  1.06999\n",
       "...                      ...      ...      ...      ...\n",
       "2023-11-28 14:15:00  1.09586  1.09623  1.09525  1.09536\n",
       "2023-11-28 14:30:00  1.09536  1.09581  1.09519  1.09562\n",
       "2023-11-28 14:45:00  1.09561  1.09564  1.09472  1.09505\n",
       "2023-11-28 15:00:00  1.09507  1.09520  1.09453  1.09493\n",
       "2023-11-28 15:15:00  1.09493  1.09643  1.09473  1.09615\n",
       "\n",
       "[19494 rows x 4 columns]"
      ]
     },
     "execution_count": 63,
     "metadata": {},
     "output_type": "execute_result"
    }
   ],
   "source": [
    "test"
   ]
  },
  {
   "cell_type": "code",
   "execution_count": 65,
   "metadata": {},
   "outputs": [],
   "source": [
    "test['returns'] = np.log(test['close'] / test['close'].shift(1))\n",
    "test.dropna(inplace=True)"
   ]
  },
  {
   "cell_type": "code",
   "execution_count": 67,
   "metadata": {},
   "outputs": [],
   "source": [
    "test['direction'] = np.sign(test['returns'])"
   ]
  },
  {
   "cell_type": "code",
   "execution_count": 68,
   "metadata": {},
   "outputs": [],
   "source": [
    "lags = 5\n",
    "cols = []\n",
    "for lag in range(1,lags+1):\n",
    "    col = 'lag_{}'.format(lag)\n",
    "    test[col] = test['returns'].shift(lag)\n",
    "    cols.append(col)\n",
    "test.dropna(inplace=True)\n"
   ]
  },
  {
   "cell_type": "code",
   "execution_count": 69,
   "metadata": {},
   "outputs": [
    {
     "data": {
      "text/html": [
       "<div>\n",
       "<style scoped>\n",
       "    .dataframe tbody tr th:only-of-type {\n",
       "        vertical-align: middle;\n",
       "    }\n",
       "\n",
       "    .dataframe tbody tr th {\n",
       "        vertical-align: top;\n",
       "    }\n",
       "\n",
       "    .dataframe thead th {\n",
       "        text-align: right;\n",
       "    }\n",
       "</style>\n",
       "<table border=\"1\" class=\"dataframe\">\n",
       "  <thead>\n",
       "    <tr style=\"text-align: right;\">\n",
       "      <th></th>\n",
       "      <th>open</th>\n",
       "      <th>high</th>\n",
       "      <th>low</th>\n",
       "      <th>close</th>\n",
       "      <th>returns</th>\n",
       "      <th>direction</th>\n",
       "      <th>lag_1</th>\n",
       "      <th>lag_2</th>\n",
       "      <th>lag_3</th>\n",
       "      <th>lag_4</th>\n",
       "      <th>lag_5</th>\n",
       "    </tr>\n",
       "    <tr>\n",
       "      <th>time</th>\n",
       "      <th></th>\n",
       "      <th></th>\n",
       "      <th></th>\n",
       "      <th></th>\n",
       "      <th></th>\n",
       "      <th></th>\n",
       "      <th></th>\n",
       "      <th></th>\n",
       "      <th></th>\n",
       "      <th></th>\n",
       "      <th></th>\n",
       "    </tr>\n",
       "  </thead>\n",
       "  <tbody>\n",
       "    <tr>\n",
       "      <th>2023-02-16 15:30:00</th>\n",
       "      <td>1.07024</td>\n",
       "      <td>1.07025</td>\n",
       "      <td>1.06731</td>\n",
       "      <td>1.06885</td>\n",
       "      <td>-0.001318</td>\n",
       "      <td>-1.0</td>\n",
       "      <td>0.000252</td>\n",
       "      <td>0.000580</td>\n",
       "      <td>-0.000767</td>\n",
       "      <td>0.000430</td>\n",
       "      <td>-0.000785</td>\n",
       "    </tr>\n",
       "    <tr>\n",
       "      <th>2023-02-16 15:45:00</th>\n",
       "      <td>1.06884</td>\n",
       "      <td>1.06889</td>\n",
       "      <td>1.06698</td>\n",
       "      <td>1.06793</td>\n",
       "      <td>-0.000861</td>\n",
       "      <td>-1.0</td>\n",
       "      <td>-0.001318</td>\n",
       "      <td>0.000252</td>\n",
       "      <td>0.000580</td>\n",
       "      <td>-0.000767</td>\n",
       "      <td>0.000430</td>\n",
       "    </tr>\n",
       "    <tr>\n",
       "      <th>2023-02-16 16:00:00</th>\n",
       "      <td>1.06792</td>\n",
       "      <td>1.06892</td>\n",
       "      <td>1.06757</td>\n",
       "      <td>1.06806</td>\n",
       "      <td>0.000122</td>\n",
       "      <td>1.0</td>\n",
       "      <td>-0.000861</td>\n",
       "      <td>-0.001318</td>\n",
       "      <td>0.000252</td>\n",
       "      <td>0.000580</td>\n",
       "      <td>-0.000767</td>\n",
       "    </tr>\n",
       "    <tr>\n",
       "      <th>2023-02-16 16:15:00</th>\n",
       "      <td>1.06807</td>\n",
       "      <td>1.06853</td>\n",
       "      <td>1.06628</td>\n",
       "      <td>1.06649</td>\n",
       "      <td>-0.001471</td>\n",
       "      <td>-1.0</td>\n",
       "      <td>0.000122</td>\n",
       "      <td>-0.000861</td>\n",
       "      <td>-0.001318</td>\n",
       "      <td>0.000252</td>\n",
       "      <td>0.000580</td>\n",
       "    </tr>\n",
       "    <tr>\n",
       "      <th>2023-02-16 16:30:00</th>\n",
       "      <td>1.06649</td>\n",
       "      <td>1.06753</td>\n",
       "      <td>1.06642</td>\n",
       "      <td>1.06683</td>\n",
       "      <td>0.000319</td>\n",
       "      <td>1.0</td>\n",
       "      <td>-0.001471</td>\n",
       "      <td>0.000122</td>\n",
       "      <td>-0.000861</td>\n",
       "      <td>-0.001318</td>\n",
       "      <td>0.000252</td>\n",
       "    </tr>\n",
       "  </tbody>\n",
       "</table>\n",
       "</div>"
      ],
      "text/plain": [
       "                        open     high      low    close   returns  direction  \\\n",
       "time                                                                           \n",
       "2023-02-16 15:30:00  1.07024  1.07025  1.06731  1.06885 -0.001318       -1.0   \n",
       "2023-02-16 15:45:00  1.06884  1.06889  1.06698  1.06793 -0.000861       -1.0   \n",
       "2023-02-16 16:00:00  1.06792  1.06892  1.06757  1.06806  0.000122        1.0   \n",
       "2023-02-16 16:15:00  1.06807  1.06853  1.06628  1.06649 -0.001471       -1.0   \n",
       "2023-02-16 16:30:00  1.06649  1.06753  1.06642  1.06683  0.000319        1.0   \n",
       "\n",
       "                        lag_1     lag_2     lag_3     lag_4     lag_5  \n",
       "time                                                                   \n",
       "2023-02-16 15:30:00  0.000252  0.000580 -0.000767  0.000430 -0.000785  \n",
       "2023-02-16 15:45:00 -0.001318  0.000252  0.000580 -0.000767  0.000430  \n",
       "2023-02-16 16:00:00 -0.000861 -0.001318  0.000252  0.000580 -0.000767  \n",
       "2023-02-16 16:15:00  0.000122 -0.000861 -0.001318  0.000252  0.000580  \n",
       "2023-02-16 16:30:00 -0.001471  0.000122 -0.000861 -0.001318  0.000252  "
      ]
     },
     "execution_count": 69,
     "metadata": {},
     "output_type": "execute_result"
    }
   ],
   "source": [
    "test.head()"
   ]
  },
  {
   "cell_type": "code",
   "execution_count": 70,
   "metadata": {},
   "outputs": [],
   "source": [
    "test['prediction'] = lm.predict(test[cols])"
   ]
  },
  {
   "cell_type": "code",
   "execution_count": 71,
   "metadata": {},
   "outputs": [
    {
     "data": {
      "text/plain": [
       "prediction\n",
       " 1.0    11044\n",
       "-1.0     8444\n",
       "Name: count, dtype: int64"
      ]
     },
     "execution_count": 71,
     "metadata": {},
     "output_type": "execute_result"
    }
   ],
   "source": [
    "test.prediction.value_counts()"
   ]
  },
  {
   "cell_type": "code",
   "execution_count": 72,
   "metadata": {},
   "outputs": [
    {
     "data": {
      "text/plain": [
       " 1.0    9897\n",
       "-1.0    9316\n",
       " 0.0     275\n",
       "Name: count, dtype: int64"
      ]
     },
     "execution_count": 72,
     "metadata": {},
     "output_type": "execute_result"
    }
   ],
   "source": [
    "hits = np.sign(test['prediction'] * test['direction']).value_counts()\n",
    "hits\n"
   ]
  },
  {
   "cell_type": "code",
   "execution_count": 73,
   "metadata": {},
   "outputs": [
    {
     "data": {
      "text/plain": [
       "50.78509852216748"
      ]
     },
     "execution_count": 73,
     "metadata": {},
     "output_type": "execute_result"
    }
   ],
   "source": [
    "hit_ratio = hits[1] / sum(hits) *100\n",
    "hit_ratio"
   ]
  },
  {
   "cell_type": "code",
   "execution_count": 74,
   "metadata": {},
   "outputs": [],
   "source": [
    "test['strategy'] = test['prediction'] * test['returns']\n"
   ]
  },
  {
   "cell_type": "code",
   "execution_count": 75,
   "metadata": {},
   "outputs": [],
   "source": [
    "test['creturns'] = test['returns'].cumsum().apply(np.exp) \n",
    "test['cstrategy'] = test['strategy'].cumsum().apply(np.exp)\n"
   ]
  },
  {
   "cell_type": "code",
   "execution_count": 79,
   "metadata": {},
   "outputs": [
    {
     "data": {
      "image/png": "[encoded data removed]",
      "text/plain": [
       "<Figure size 1500x800 with 1 Axes>"
      ]
     },
     "metadata": {},
     "output_type": "display_data"
    }
   ],
   "source": [
    "test[['creturns','cstrategy']].plot(figsize=(15,8), title='Logistic Regression | Out-of-Sample Performance',color=['blue','red'])\n",
    "plt.show()"
   ]
  },
  {
   "cell_type": "code",
   "execution_count": 77,
   "metadata": {},
   "outputs": [],
   "source": [
    "test['trades'] = test['prediction'].diff().fillna(0).abs()"
   ]
  },
  {
   "cell_type": "code",
   "execution_count": 78,
   "metadata": {},
   "outputs": [
    {
     "data": {
      "text/plain": [
       "trades\n",
       "0.0    12467\n",
       "2.0     7021\n",
       "Name: count, dtype: int64"
      ]
     },
     "execution_count": 78,
     "metadata": {},
     "output_type": "execute_result"
    }
   ],
   "source": [
    "test['trades'].value_counts()  "
   ]
  },
  {
   "cell_type": "markdown",
   "metadata": {},
   "source": [
    "Good to see there is more realistic performace in using out sample and still profitable strategy. \n",
    "Again like linear regression this is really basic approach.\n",
    "There could be interesting add features like correlation with other instruments and difference to some moving averages. \n",
    "It is vectorised backtest, so no copying real equity of account.\n"
   ]
  },
  {
   "cell_type": "markdown",
   "metadata": {},
   "source": [
    "\n",
    "Source and credit of Alexander Hagmann and his course 'Algorithmic Trading A-Z with Python, Machine Learning & AWS'!"
   ]
  }
 ],
 "metadata": {
  "kernelspec": {
   "display_name": "AlphaQuantEnv",
   "language": "python",
   "name": "python3"
  },
  "language_info": {
   "codemirror_mode": {
    "name": "ipython",
    "version": 3
   },
   "file_extension": ".py",
   "mimetype": "text/x-python",
   "name": "python",
   "nbconvert_exporter": "python",
   "pygments_lexer": "ipython3",
   "version": "3.10.13"
  }
 },
 "nbformat": 4,
 "nbformat_minor": 2
}
