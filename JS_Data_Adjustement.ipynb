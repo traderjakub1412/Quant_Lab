{
 "cells": [
  {
   "cell_type": "markdown",
   "metadata": {},
   "source": [
    "# Import libraries"
   ]
  },
  {
   "cell_type": "code",
   "execution_count": 34,
   "metadata": {},
   "outputs": [],
   "source": [
    "import pandas as pd\n"
   ]
  },
  {
   "cell_type": "markdown",
   "metadata": {},
   "source": [
    "# Import and adjust data for analysis"
   ]
  },
  {
   "cell_type": "markdown",
   "metadata": {},
   "source": [
    "## Minutes data adjustement"
   ]
  },
  {
   "cell_type": "code",
   "execution_count": 28,
   "metadata": {},
   "outputs": [],
   "source": [
    "# Already downloande data from MT5\n",
    "df = pd.read_csv('EURUSD_M15_202002030000_202012310000.csv',sep='\\t')"
   ]
  },
  {
   "cell_type": "code",
   "execution_count": 29,
   "metadata": {},
   "outputs": [],
   "source": [
    "# Def for clean data\n",
    "def clean_df_minutes(df):\n",
    "    df = df.copy()\n",
    "    df['time'] = pd.to_datetime(df['<DATE>'] + ' ' + df['<TIME>'])\n",
    "    \n",
    "    df.drop(['<DATE>','<TIME>','<TICKVOL>','<VOL>','<SPREAD>'],axis=1,inplace=True)\n",
    "    \n",
    "    df = df[['time','<OPEN>','<HIGH>','<LOW>','<CLOSE>']]\n",
    "    df.columns = ['time','open','high','low','close']\n",
    "    \n",
    "    df.set_index('time',inplace=True)\n",
    "    \n",
    "    return df"
   ]
  },
  {
   "cell_type": "code",
   "execution_count": 30,
   "metadata": {},
   "outputs": [],
   "source": [
    "df = clean_df_minutes(df)\n"
   ]
  },
  {
   "cell_type": "code",
   "execution_count": 31,
   "metadata": {},
   "outputs": [
    {
     "data": {
      "text/html": [
       "<div>\n",
       "<style scoped>\n",
       "    .dataframe tbody tr th:only-of-type {\n",
       "        vertical-align: middle;\n",
       "    }\n",
       "\n",
       "    .dataframe tbody tr th {\n",
       "        vertical-align: top;\n",
       "    }\n",
       "\n",
       "    .dataframe thead th {\n",
       "        text-align: right;\n",
       "    }\n",
       "</style>\n",
       "<table border=\"1\" class=\"dataframe\">\n",
       "  <thead>\n",
       "    <tr style=\"text-align: right;\">\n",
       "      <th></th>\n",
       "      <th>open</th>\n",
       "      <th>high</th>\n",
       "      <th>low</th>\n",
       "      <th>close</th>\n",
       "    </tr>\n",
       "    <tr>\n",
       "      <th>time</th>\n",
       "      <th></th>\n",
       "      <th></th>\n",
       "      <th></th>\n",
       "      <th></th>\n",
       "    </tr>\n",
       "  </thead>\n",
       "  <tbody>\n",
       "    <tr>\n",
       "      <th>2020-02-03 00:00:00</th>\n",
       "      <td>1.10911</td>\n",
       "      <td>1.10924</td>\n",
       "      <td>1.10910</td>\n",
       "      <td>1.10918</td>\n",
       "    </tr>\n",
       "    <tr>\n",
       "      <th>2020-02-03 00:15:00</th>\n",
       "      <td>1.10917</td>\n",
       "      <td>1.10918</td>\n",
       "      <td>1.10871</td>\n",
       "      <td>1.10893</td>\n",
       "    </tr>\n",
       "    <tr>\n",
       "      <th>2020-02-03 00:30:00</th>\n",
       "      <td>1.10893</td>\n",
       "      <td>1.10900</td>\n",
       "      <td>1.10813</td>\n",
       "      <td>1.10865</td>\n",
       "    </tr>\n",
       "    <tr>\n",
       "      <th>2020-02-03 00:45:00</th>\n",
       "      <td>1.10864</td>\n",
       "      <td>1.10886</td>\n",
       "      <td>1.10821</td>\n",
       "      <td>1.10846</td>\n",
       "    </tr>\n",
       "    <tr>\n",
       "      <th>2020-02-03 01:00:00</th>\n",
       "      <td>1.10844</td>\n",
       "      <td>1.10906</td>\n",
       "      <td>1.10844</td>\n",
       "      <td>1.10894</td>\n",
       "    </tr>\n",
       "  </tbody>\n",
       "</table>\n",
       "</div>"
      ],
      "text/plain": [
       "                        open     high      low    close\n",
       "time                                                   \n",
       "2020-02-03 00:00:00  1.10911  1.10924  1.10910  1.10918\n",
       "2020-02-03 00:15:00  1.10917  1.10918  1.10871  1.10893\n",
       "2020-02-03 00:30:00  1.10893  1.10900  1.10813  1.10865\n",
       "2020-02-03 00:45:00  1.10864  1.10886  1.10821  1.10846\n",
       "2020-02-03 01:00:00  1.10844  1.10906  1.10844  1.10894"
      ]
     },
     "execution_count": 31,
     "metadata": {},
     "output_type": "execute_result"
    }
   ],
   "source": [
    "# Control data preparation\n",
    "df.head()"
   ]
  },
  {
   "cell_type": "markdown",
   "metadata": {},
   "source": [
    "## Tick data adjustement"
   ]
  },
  {
   "cell_type": "code",
   "execution_count": null,
   "metadata": {},
   "outputs": [],
   "source": [
    "df = pd.read_csv('EURUSD_tick.csv', sep = '\\t')"
   ]
  },
  {
   "cell_type": "code",
   "execution_count": 18,
   "metadata": {},
   "outputs": [],
   "source": [
    "def clean_df_ticks(tick_data):\n",
    "    # Make a copy to avoid the SettingWithCopyWarning\n",
    "    tick_data = tick_data.copy()\n",
    "    \n",
    "    # Convert to datetime\n",
    "    tick_data['time'] = pd.to_datetime(tick_data['<DATE>'] + ' ' + tick_data['<TIME>'])\n",
    "    \n",
    "    # Drop unnecessary columns\n",
    "    tick_data.drop(['<LAST>', '<VOLUME>', '<FLAGS>', '<DATE>', '<TIME>'], axis=1, inplace=True)\n",
    "    \n",
    "    # Rearrange columns\n",
    "    tick_data = tick_data[['time', '<BID>', '<ASK>']]\n",
    "    tick_data.columns = ['time', 'bid', 'ask']\n",
    "    \n",
    "    # Forward-fill missing values in 'bid' and 'ask' columns\n",
    "    tick_data['bid'].ffill(axis=0, inplace=True)\n",
    "    tick_data['ask'].ffill(axis=0, inplace=True)\n",
    "    \n",
    "    # Set 'time' column as index\n",
    "    tick_data.set_index('time', inplace=True)\n",
    "    \n",
    "    return tick_data"
   ]
  },
  {
   "cell_type": "code",
   "execution_count": null,
   "metadata": {},
   "outputs": [],
   "source": [
    "df = clean_df_ticks(df)"
   ]
  },
  {
   "cell_type": "code",
   "execution_count": null,
   "metadata": {},
   "outputs": [],
   "source": [
    "# Control data preparation\n",
    "df.head()"
   ]
  },
  {
   "cell_type": "markdown",
   "metadata": {},
   "source": [
    "# Saving Prepared Data\n",
    "\n",
    "Using pickle is particularly efficient for large-sized tick data.\n",
    "\n",
    "Pickle preserves the indexing, eliminating the need for re-indexing during subsequent loads."
   ]
  },
  {
   "cell_type": "code",
   "execution_count": 26,
   "metadata": {},
   "outputs": [],
   "source": [
    "#Save as compressed\n",
    "df.to_pickle('EURUSD_2020-2023_tick.bz2')"
   ]
  },
  {
   "cell_type": "markdown",
   "metadata": {},
   "source": [
    "# Load ready data"
   ]
  },
  {
   "cell_type": "code",
   "execution_count": null,
   "metadata": {},
   "outputs": [],
   "source": [
    "df = pd.read_pickle('EURUSD_2020-2023_tick.bz2')"
   ]
  }
 ],
 "metadata": {
  "kernelspec": {
   "display_name": "Algo_Bot_Lab_env",
   "language": "python",
   "name": "python3"
  },
  "language_info": {
   "codemirror_mode": {
    "name": "ipython",
    "version": 3
   },
   "file_extension": ".py",
   "mimetype": "text/x-python",
   "name": "python",
   "nbconvert_exporter": "python",
   "pygments_lexer": "ipython3",
   "version": "3.10.13"
  }
 },
 "nbformat": 4,
 "nbformat_minor": 2
}
